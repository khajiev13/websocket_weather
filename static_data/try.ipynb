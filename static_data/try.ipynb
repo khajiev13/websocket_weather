{
 "cells": [
  {
   "cell_type": "code",
   "execution_count": 5,
   "metadata": {},
   "outputs": [
    {
     "name": "stdout",
     "output_type": "stream",
     "text": [
      "130\n",
      "130\n",
      "63\n"
     ]
    }
   ],
   "source": [
    "import pandas as pd\n",
    "df_light = pd.read_csv('/Users/khajievroma/Desktop/Python/weather_websocket/static_data/light.dat', sep=\" \", header=None, names=[\"date\", \"time\", \"value\"])\n",
    "df_temperature = pd.read_csv('/Users/khajievroma/Desktop/Python/weather_websocket/static_data/temperature.dat', sep=\" \", header=None, names=[\"date\", \"time\", \"value\"])\n",
    "df_humidity = pd.read_csv('/Users/khajievroma/Desktop/Python/weather_websocket/static_data/humidity.dat', sep=\" \", header=None, names=[\"date\", \"time\", \"value\"])\n",
    "\n",
    "# Combine date and time columns into a single datetime column\n",
    "df_light[\"datetime\"] = pd.to_datetime(df_light[\"date\"] + \" \" + df_light[\"time\"])\n",
    "df_temperature[\"datetime\"] = pd.to_datetime(df_temperature[\"date\"] + \" \" + df_temperature[\"time\"])\n",
    "df_humidity[\"datetime\"] = pd.to_datetime(df_humidity[\"date\"] + \" \" + df_humidity[\"time\"])\n",
    "df_light[\"datetime\"] = pd.to_datetime(df_light[\"date\"] + \" \" + df_light[\"time\"])\n",
    "# Now, df contains three columns: \"date\", \"time\", and \"value\"\n",
    "# and one combined datetime column \"datetime\"\n",
    "\n",
    "# Convert the datetime column to strings\n",
    "datetime_list_light = df_light['datetime'].astype(str).to_list()\n",
    "datetime_list_temperature = df_temperature['datetime'].astype(str).to_list()\n",
    "datetime_list_humidity = df_humidity['datetime'].astype(str).to_list()\n",
    "selected_date = '2022-05-06 11:00:00'\n",
    "\n",
    "for i in range(len(datetime_list)):\n",
    "    if(datetime_list_light[i] == selected_date and datetime_list_temperature[i] == selected_date and datetime_list_humidity[i] == selected_date):\n",
    "        print(df_humidity[\"value\"][i])\n",
    "        print(df_light[\"value\"][i])\n",
    "        print(df_temperature[\"value\"][i])"
   ]
  },
  {
   "cell_type": "code",
   "execution_count": null,
   "metadata": {},
   "outputs": [],
   "source": []
  }
 ],
 "metadata": {
  "kernelspec": {
   "display_name": "env",
   "language": "python",
   "name": "python3"
  },
  "language_info": {
   "codemirror_mode": {
    "name": "ipython",
    "version": 3
   },
   "file_extension": ".py",
   "mimetype": "text/x-python",
   "name": "python",
   "nbconvert_exporter": "python",
   "pygments_lexer": "ipython3",
   "version": "3.10.9"
  },
  "orig_nbformat": 4
 },
 "nbformat": 4,
 "nbformat_minor": 2
}
